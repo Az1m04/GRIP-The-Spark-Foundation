{
  "nbformat": 4,
  "nbformat_minor": 0,
  "metadata": {
    "colab": {
      "name": "TSF DS&BA Task 2.ipynb",
      "provenance": [],
      "collapsed_sections": []
    },
    "kernelspec": {
      "name": "python3",
      "display_name": "Python 3"
    }
  },
  "cells": [
    {
      "cell_type": "markdown",
      "metadata": {
        "id": "AvgxwByDrwr1"
      },
      "source": [
        "#**GRIP : THE SPARK FOUNDATION**\r\n",
        "# Data Science and Business Analytics Intern\r\n",
        "# Author : Md Azim Babu\r\n",
        "# TASK 2: Prediction Using Unsupervised Machine Learning\r\n",
        "Task Aim : The aim of this task is to predict the optimum number of clusters from the 'Iris' dataset.\r\n"
      ]
    },
    {
      "cell_type": "markdown",
      "metadata": {
        "id": "ZGwpHUbMt085"
      },
      "source": [
        "**STEP : 1 Importing the data**"
      ]
    },
    {
      "cell_type": "code",
      "metadata": {
        "id": "eUgrOFPsrhx_"
      },
      "source": [
        "# Importing the required libraries\r\n",
        "\r\n",
        "import numpy as np\r\n",
        "import matplotlib.pyplot as plt\r\n",
        "import pandas as pd\r\n",
        "from sklearn import datasets\r\n",
        "from sklearn.cluster import KMeans"
      ],
      "execution_count": 1,
      "outputs": []
    },
    {
      "cell_type": "code",
      "metadata": {
        "id": "YK7Nh260uKEx"
      },
      "source": [
        "# Loading the iris data\r\n",
        "\r\n",
        "dataset = datasets.load_iris()\r\n",
        "dataset = pd.DataFrame(dataset.data, columns = dataset.feature_names)"
      ],
      "execution_count": 2,
      "outputs": []
    },
    {
      "cell_type": "code",
      "metadata": {
        "colab": {
          "base_uri": "https://localhost:8080/",
          "height": 194
        },
        "id": "JhRNwsViuLaZ",
        "outputId": "b798300e-f3b3-4ccb-9ddc-76a517082868"
      },
      "source": [
        "# Viewing the data\r\n",
        "\r\n",
        "dataset.head()"
      ],
      "execution_count": 3,
      "outputs": [
        {
          "output_type": "execute_result",
          "data": {
            "text/html": [
              "<div>\n",
              "<style scoped>\n",
              "    .dataframe tbody tr th:only-of-type {\n",
              "        vertical-align: middle;\n",
              "    }\n",
              "\n",
              "    .dataframe tbody tr th {\n",
              "        vertical-align: top;\n",
              "    }\n",
              "\n",
              "    .dataframe thead th {\n",
              "        text-align: right;\n",
              "    }\n",
              "</style>\n",
              "<table border=\"1\" class=\"dataframe\">\n",
              "  <thead>\n",
              "    <tr style=\"text-align: right;\">\n",
              "      <th></th>\n",
              "      <th>sepal length (cm)</th>\n",
              "      <th>sepal width (cm)</th>\n",
              "      <th>petal length (cm)</th>\n",
              "      <th>petal width (cm)</th>\n",
              "    </tr>\n",
              "  </thead>\n",
              "  <tbody>\n",
              "    <tr>\n",
              "      <th>0</th>\n",
              "      <td>5.1</td>\n",
              "      <td>3.5</td>\n",
              "      <td>1.4</td>\n",
              "      <td>0.2</td>\n",
              "    </tr>\n",
              "    <tr>\n",
              "      <th>1</th>\n",
              "      <td>4.9</td>\n",
              "      <td>3.0</td>\n",
              "      <td>1.4</td>\n",
              "      <td>0.2</td>\n",
              "    </tr>\n",
              "    <tr>\n",
              "      <th>2</th>\n",
              "      <td>4.7</td>\n",
              "      <td>3.2</td>\n",
              "      <td>1.3</td>\n",
              "      <td>0.2</td>\n",
              "    </tr>\n",
              "    <tr>\n",
              "      <th>3</th>\n",
              "      <td>4.6</td>\n",
              "      <td>3.1</td>\n",
              "      <td>1.5</td>\n",
              "      <td>0.2</td>\n",
              "    </tr>\n",
              "    <tr>\n",
              "      <th>4</th>\n",
              "      <td>5.0</td>\n",
              "      <td>3.6</td>\n",
              "      <td>1.4</td>\n",
              "      <td>0.2</td>\n",
              "    </tr>\n",
              "  </tbody>\n",
              "</table>\n",
              "</div>"
            ],
            "text/plain": [
              "   sepal length (cm)  sepal width (cm)  petal length (cm)  petal width (cm)\n",
              "0                5.1               3.5                1.4               0.2\n",
              "1                4.9               3.0                1.4               0.2\n",
              "2                4.7               3.2                1.3               0.2\n",
              "3                4.6               3.1                1.5               0.2\n",
              "4                5.0               3.6                1.4               0.2"
            ]
          },
          "metadata": {
            "tags": []
          },
          "execution_count": 3
        }
      ]
    },
    {
      "cell_type": "markdown",
      "metadata": {
        "id": "zcaKMCsSugId"
      },
      "source": [
        "\r\n",
        "**STEP 2 : Finding the optimum number of clusters** "
      ]
    },
    {
      "cell_type": "markdown",
      "metadata": {
        "id": "vee7gQJjukVZ"
      },
      "source": [
        "Before clustering the data using kmeans, we need to specify the number of clusters. In order to find the optimum number of clusters, there are various methods available like Silhouette Coefficient and the Elbow method. Here, the elbow method is used.\r\n",
        "\r\n",
        "**What is Elbow method?**\r\n",
        "The number of clusters are varies within a certain range. For each number, within-cluster sum of square value is calculated and stored in a list. These value are then plotted against the range of number of clusters used before. The location of bend in the 2d plot indicates the appropiate number of clusters."
      ]
    },
    {
      "cell_type": "code",
      "metadata": {
        "id": "Z6MSJlRawz3b"
      },
      "source": [
        "# Calculating the within-cluster sum of square\r\n",
        "x = dataset.iloc[:, [0, 1, 2, 3]].values\r\n",
        "\r\n",
        "\r\n",
        "within_cluster_sum_of_square = []\r\n",
        "\r\n",
        "clusters_range = range(1,11)\r\n",
        "for k in clusters_range:\r\n",
        "    km = KMeans(n_clusters=k)\r\n",
        "    km = km.fit(x)\r\n",
        "    within_cluster_sum_of_square.append(km.inertia_)"
      ],
      "execution_count": 22,
      "outputs": []
    },
    {
      "cell_type": "code",
      "metadata": {
        "colab": {
          "base_uri": "https://localhost:8080/",
          "height": 295
        },
        "id": "zhciyMPdw1DH",
        "outputId": "1830acbd-81fd-484f-f324-be9642721595"
      },
      "source": [
        "# Plotting the \"within-cluster sum of square\" against clusters range\r\n",
        "\r\n",
        "plt.plot(clusters_range, within_cluster_sum_of_square, 'go-', color='blue')\r\n",
        "plt.title('The elbow method')\r\n",
        "plt.xlabel('Number of clusters')\r\n",
        "plt.ylabel('Within-cluster sum of square')\r\n",
        "plt.grid()\r\n",
        "plt.show()"
      ],
      "execution_count": 23,
      "outputs": [
        {
          "output_type": "display_data",
          "data": {
            "image/png": "[encoded data removed]",
            "text/plain": [
              "<Figure size 432x288 with 1 Axes>"
            ]
          },
          "metadata": {
            "tags": [],
            "needs_background": "light"
          }
        }
      ]
    },
    {
      "cell_type": "markdown",
      "metadata": {
        "id": "ihe_aZxgw4SD"
      },
      "source": [
        "**STEP 3 : Applying k means clustering on the data**"
      ]
    },
    {
      "cell_type": "code",
      "metadata": {
        "id": "LnqAllakxGx9"
      },
      "source": [
        "model = KMeans(n_clusters = 3, init = 'k-means++', max_iter = 300, n_init = 10, random_state = 0)\r\n",
        "predictions = model.fit_predict(x)"
      ],
      "execution_count": 25,
      "outputs": []
    },
    {
      "cell_type": "code",
      "metadata": {
        "colab": {
          "base_uri": "https://localhost:8080/",
          "height": 268
        },
        "id": "SSddS3MXy6Is",
        "outputId": "fba4185c-5933-4557-ea0c-213cd22ecb58"
      },
      "source": [
        "# Visualising the clusters - On the first two columns\r\n",
        "\r\n",
        "plt.scatter(x[predictions == 0, 0], x[predictions == 0, 1], s = 25, c = 'red', label = 'Iris-setosa')\r\n",
        "plt.scatter(x[predictions == 1, 0], x[predictions == 1, 1], s = 25, c = 'blue', label = 'Iris-versicolour')\r\n",
        "plt.scatter(x[predictions == 2, 0], x[predictions == 2, 1], s = 25, c = 'green', label = 'Iris-virginica')\r\n",
        "\r\n",
        "# Plotting the cluster centers\r\n",
        "\r\n",
        "plt.scatter(model.cluster_centers_[:, 0], model.cluster_centers_[:,1], s = 100, c = 'yellow', label = 'Centroids')\r\n",
        "plt.legend()\r\n",
        "plt.grid()\r\n",
        "plt.show()"
      ],
      "execution_count": 26,
      "outputs": [
        {
          "output_type": "display_data",
          "data": {
            "image/png": "[encoded data removed]",
            "text/plain": [
              "<Figure size 432x288 with 1 Axes>"
            ]
          },
          "metadata": {
            "tags": [],
            "needs_background": "light"
          }
        }
      ]
    }
  ]
}